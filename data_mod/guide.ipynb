{
 "cells": [
  {
   "cell_type": "markdown",
   "metadata": {},
   "source": [
    "### Function: `update_d`\n",
    "\n",
    "This function processes data from a CSV file to calculate and return a list of results (`res_list`) based on input parameters extracted from the file.\n",
    "\n",
    "#### **Parameters**\n",
    "- **`filename`** (`str`):  \n",
    "  The name of the CSV file to be read. It contains the input data required for calculations.  \n",
    "\n",
    "#### **Variables to be present in the csv.file**\n",
    "1. **`d_main_inputs`** (`list[str]`):  \n",
    "   A list of column names from the CSV file. These correspond to input parameters needed for calculations:  \n",
    "   - `\"h\"`: Height of the section (mm).  \n",
    "   - `\"c\"`: Concrete clear cover (mm).  \n",
    "   - `\"link_bar_dia\"`: Diameter of the link bar (mm).  \n",
    "   - `\"sec_bar_dia\"`: Diameter of the secondary bar (mm).  \n",
    "   - `\"main_bar_dia\"`: Diameter of the main bar (mm)."
   ]
  },
  {
   "cell_type": "markdown",
   "metadata": {},
   "source": []
  }
 ],
 "metadata": {
  "language_info": {
   "name": "python"
  }
 },
 "nbformat": 4,
 "nbformat_minor": 2
}
