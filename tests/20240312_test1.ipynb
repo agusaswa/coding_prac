{
 "cells": [
  {
   "cell_type": "code",
   "execution_count": 11,
   "metadata": {},
   "outputs": [
    {
     "name": "stdout",
     "output_type": "stream",
     "text": [
      "Section size set to: SB2\n",
      "SB4 is not a valid section size or not in the database.\n"
     ]
    }
   ],
   "source": [
    "import sys\n",
    "import os\n",
    "sys.path.insert(0, os.path.abspath(os.path.join(os.getcwd(), '../')))\n",
    "import pandas as pd\n",
    "from steel_des import Section\n",
    "\n",
    "\n",
    "data = {\n",
    "    \"Label\":[\"SB1\",\"SB2\",\"SB3\",],\n",
    "    \"Size\": [\"UC150x150x30\", \"UC150x150x40\", \"UC150x150x50\"],\n",
    "    \"Depth\": [150,155,160]\n",
    "}\n",
    "\n",
    "sect_data = pd.DataFrame(data)\n",
    "\n",
    "section_1 = Section(sect_data)\n",
    "\n",
    "# Set a valid size\n",
    "try:\n",
    "    section_1.sect_label = 'SB2'  # This should work\n",
    "    print(f\"Section size set to: {section_1.sect_label}\")\n",
    "except ValueError as e:\n",
    "    print(e)\n",
    "\n",
    "# Attempt to set an invalid size\n",
    "try:\n",
    "    section_1.sect_size = 'SB4'  # This should raise an error\n",
    "except ValueError as e:\n",
    "    print(e)\n"
   ]
  },
  {
   "cell_type": "code",
   "execution_count": 12,
   "metadata": {},
   "outputs": [
    {
     "data": {
      "text/html": [
       "<div>\n",
       "<style scoped>\n",
       "    .dataframe tbody tr th:only-of-type {\n",
       "        vertical-align: middle;\n",
       "    }\n",
       "\n",
       "    .dataframe tbody tr th {\n",
       "        vertical-align: top;\n",
       "    }\n",
       "\n",
       "    .dataframe thead th {\n",
       "        text-align: right;\n",
       "    }\n",
       "</style>\n",
       "<table border=\"1\" class=\"dataframe\">\n",
       "  <thead>\n",
       "    <tr style=\"text-align: right;\">\n",
       "      <th></th>\n",
       "      <th>Label</th>\n",
       "      <th>Size</th>\n",
       "      <th>Depth</th>\n",
       "    </tr>\n",
       "  </thead>\n",
       "  <tbody>\n",
       "    <tr>\n",
       "      <th>0</th>\n",
       "      <td>SB1</td>\n",
       "      <td>UC150x150x30</td>\n",
       "      <td>150</td>\n",
       "    </tr>\n",
       "    <tr>\n",
       "      <th>1</th>\n",
       "      <td>SB2</td>\n",
       "      <td>UC150x150x40</td>\n",
       "      <td>155</td>\n",
       "    </tr>\n",
       "    <tr>\n",
       "      <th>2</th>\n",
       "      <td>SB3</td>\n",
       "      <td>UC150x150x50</td>\n",
       "      <td>160</td>\n",
       "    </tr>\n",
       "  </tbody>\n",
       "</table>\n",
       "</div>"
      ],
      "text/plain": [
       "  Label          Size  Depth\n",
       "0   SB1  UC150x150x30    150\n",
       "1   SB2  UC150x150x40    155\n",
       "2   SB3  UC150x150x50    160"
      ]
     },
     "execution_count": 12,
     "metadata": {},
     "output_type": "execute_result"
    }
   ],
   "source": [
    "df = sect_data\n",
    "df"
   ]
  },
  {
   "cell_type": "code",
   "execution_count": null,
   "metadata": {},
   "outputs": [],
   "source": []
  }
 ],
 "metadata": {
  "kernelspec": {
   "display_name": "Python 3",
   "language": "python",
   "name": "python3"
  },
  "language_info": {
   "codemirror_mode": {
    "name": "ipython",
    "version": 3
   },
   "file_extension": ".py",
   "mimetype": "text/x-python",
   "name": "python",
   "nbconvert_exporter": "python",
   "pygments_lexer": "ipython3",
   "version": "3.12.7"
  }
 },
 "nbformat": 4,
 "nbformat_minor": 2
}
