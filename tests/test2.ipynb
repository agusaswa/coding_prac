{
 "cells": [
  {
   "cell_type": "code",
   "execution_count": 1,
   "metadata": {},
   "outputs": [
    {
     "name": "stdout",
     "output_type": "stream",
     "text": [
      "[[1 2 3]\n",
      " [4 5 6]]\n"
     ]
    }
   ],
   "source": [
    "import numpy as np\n",
    "\n",
    "mat = np.array([[1,2,3],[4,5,6]])\n",
    "\n",
    "print(mat)"
   ]
  },
  {
   "cell_type": "code",
   "execution_count": null,
   "metadata": {},
   "outputs": [],
   "source": [
    "trans = mat.T\n",
    "print(trans)"
   ]
  },
  {
   "cell_type": "code",
   "execution_count": null,
   "metadata": {},
   "outputs": [],
   "source": [
    "# Make sure the matrix is square and invertible\n",
    "matrix_square = np.array([[1, 2], [3, 4]])\n",
    "\n",
    "# Check if the matrix is invertible (non-singular)\n",
    "if np.linalg.det(matrix_square) != 0:\n",
    "    inverse_matrix = np.linalg.inv(matrix_square)\n",
    "    print(\"Inverse:\\n\", inverse_matrix)\n",
    "else:\n",
    "    print(\"Matrix is singular, cannot compute inverse.\")\n"
   ]
  },
  {
   "cell_type": "code",
   "execution_count": 4,
   "metadata": {},
   "outputs": [
    {
     "name": "stdout",
     "output_type": "stream",
     "text": [
      "load_counter = 1\n",
      "load_counter = 0\n",
      "[-12.5 -12.5]\n"
     ]
    }
   ],
   "source": [
    "from str_analysis import matr_calc as mcalc\n",
    "\n",
    "P_info = [['w',50,0,50,1]]\n",
    "elem = mcalc.ElemLoadInp(25, P_info)\n",
    "\n",
    "V1 = elem.anlz_total(0.5)\n",
    "\n",
    "print (V1)\n",
    "\n",
    "# res = []\n",
    "# for i in range(0,2):\n",
    "#     res.append([mcalc.anlz_V_Pload(25,i,P_info)[0] + mcalc.anlz_V_wload(25,1,w_info)[0],\n",
    "#                 mcalc.anlz_V_Pload(25,i,P_info)[1] + mcalc.anlz_V_wload(25,1,w_info)[1]])\n",
    "\n",
    "# print(res) "
   ]
  }
 ],
 "metadata": {
  "kernelspec": {
   "display_name": "Python 3",
   "language": "python",
   "name": "python3"
  },
  "language_info": {
   "codemirror_mode": {
    "name": "ipython",
    "version": 3
   },
   "file_extension": ".py",
   "mimetype": "text/x-python",
   "name": "python",
   "nbconvert_exporter": "python",
   "pygments_lexer": "ipython3",
   "version": "3.12.8"
  }
 },
 "nbformat": 4,
 "nbformat_minor": 2
}
